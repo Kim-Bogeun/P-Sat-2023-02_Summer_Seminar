{
 "cells": [
  {
   "cell_type": "markdown",
   "id": "8e57e615",
   "metadata": {},
   "source": [
    "# 라이브러리 및 데이터"
   ]
  },
  {
   "cell_type": "code",
   "execution_count": 1,
   "id": "b1fca530",
   "metadata": {},
   "outputs": [
    {
     "data": {
      "text/html": [
       "<div>\n",
       "<style scoped>\n",
       "    .dataframe tbody tr th:only-of-type {\n",
       "        vertical-align: middle;\n",
       "    }\n",
       "\n",
       "    .dataframe tbody tr th {\n",
       "        vertical-align: top;\n",
       "    }\n",
       "\n",
       "    .dataframe thead th {\n",
       "        text-align: right;\n",
       "    }\n",
       "</style>\n",
       "<table border=\"1\" class=\"dataframe\">\n",
       "  <thead>\n",
       "    <tr style=\"text-align: right;\">\n",
       "      <th></th>\n",
       "      <th>X1</th>\n",
       "      <th>X3</th>\n",
       "      <th>X5</th>\n",
       "      <th>X6</th>\n",
       "      <th>X7a</th>\n",
       "      <th>X7b</th>\n",
       "      <th>X7c</th>\n",
       "      <th>X7d</th>\n",
       "      <th>X7e</th>\n",
       "      <th>X7f</th>\n",
       "      <th>...</th>\n",
       "      <th>X71_binary</th>\n",
       "      <th>X72_binary</th>\n",
       "      <th>X73_binary</th>\n",
       "      <th>X74_binary</th>\n",
       "      <th>X75_binary</th>\n",
       "      <th>X76_binary</th>\n",
       "      <th>X77_binary</th>\n",
       "      <th>X78_binary</th>\n",
       "      <th>anomaly</th>\n",
       "      <th>score</th>\n",
       "    </tr>\n",
       "  </thead>\n",
       "  <tbody>\n",
       "    <tr>\n",
       "      <th>0</th>\n",
       "      <td>40766</td>\n",
       "      <td>3.772000e+03</td>\n",
       "      <td>0.0</td>\n",
       "      <td>0.0</td>\n",
       "      <td>0.0</td>\n",
       "      <td>0.0</td>\n",
       "      <td>0.0</td>\n",
       "      <td>0.0</td>\n",
       "      <td>158424.0</td>\n",
       "      <td>416172.0</td>\n",
       "      <td>...</td>\n",
       "      <td>0</td>\n",
       "      <td>0</td>\n",
       "      <td>0</td>\n",
       "      <td>0</td>\n",
       "      <td>0</td>\n",
       "      <td>0</td>\n",
       "      <td>0</td>\n",
       "      <td>0</td>\n",
       "      <td>1</td>\n",
       "      <td>0.096545</td>\n",
       "    </tr>\n",
       "    <tr>\n",
       "      <th>1</th>\n",
       "      <td>9030</td>\n",
       "      <td>1.740000e+02</td>\n",
       "      <td>0.0</td>\n",
       "      <td>0.0</td>\n",
       "      <td>0.0</td>\n",
       "      <td>0.0</td>\n",
       "      <td>0.0</td>\n",
       "      <td>0.0</td>\n",
       "      <td>600.0</td>\n",
       "      <td>136934.0</td>\n",
       "      <td>...</td>\n",
       "      <td>0</td>\n",
       "      <td>0</td>\n",
       "      <td>0</td>\n",
       "      <td>0</td>\n",
       "      <td>0</td>\n",
       "      <td>0</td>\n",
       "      <td>0</td>\n",
       "      <td>0</td>\n",
       "      <td>1</td>\n",
       "      <td>0.068260</td>\n",
       "    </tr>\n",
       "    <tr>\n",
       "      <th>2</th>\n",
       "      <td>93156</td>\n",
       "      <td>0.000000e+00</td>\n",
       "      <td>0.0</td>\n",
       "      <td>0.0</td>\n",
       "      <td>0.0</td>\n",
       "      <td>0.0</td>\n",
       "      <td>0.0</td>\n",
       "      <td>0.0</td>\n",
       "      <td>137692.0</td>\n",
       "      <td>2382150.0</td>\n",
       "      <td>...</td>\n",
       "      <td>1</td>\n",
       "      <td>1</td>\n",
       "      <td>1</td>\n",
       "      <td>1</td>\n",
       "      <td>1</td>\n",
       "      <td>1</td>\n",
       "      <td>1</td>\n",
       "      <td>1</td>\n",
       "      <td>-1</td>\n",
       "      <td>-0.042344</td>\n",
       "    </tr>\n",
       "    <tr>\n",
       "      <th>3</th>\n",
       "      <td>29084</td>\n",
       "      <td>2.940000e+02</td>\n",
       "      <td>0.0</td>\n",
       "      <td>0.0</td>\n",
       "      <td>0.0</td>\n",
       "      <td>0.0</td>\n",
       "      <td>0.0</td>\n",
       "      <td>7032.0</td>\n",
       "      <td>275686.0</td>\n",
       "      <td>942348.0</td>\n",
       "      <td>...</td>\n",
       "      <td>0</td>\n",
       "      <td>0</td>\n",
       "      <td>0</td>\n",
       "      <td>0</td>\n",
       "      <td>0</td>\n",
       "      <td>0</td>\n",
       "      <td>0</td>\n",
       "      <td>0</td>\n",
       "      <td>1</td>\n",
       "      <td>0.122501</td>\n",
       "    </tr>\n",
       "    <tr>\n",
       "      <th>4</th>\n",
       "      <td>724</td>\n",
       "      <td>4.200000e+01</td>\n",
       "      <td>0.0</td>\n",
       "      <td>0.0</td>\n",
       "      <td>0.0</td>\n",
       "      <td>0.0</td>\n",
       "      <td>3276.0</td>\n",
       "      <td>4980.0</td>\n",
       "      <td>16332.0</td>\n",
       "      <td>44564.0</td>\n",
       "      <td>...</td>\n",
       "      <td>0</td>\n",
       "      <td>0</td>\n",
       "      <td>0</td>\n",
       "      <td>0</td>\n",
       "      <td>0</td>\n",
       "      <td>0</td>\n",
       "      <td>0</td>\n",
       "      <td>0</td>\n",
       "      <td>1</td>\n",
       "      <td>0.132192</td>\n",
       "    </tr>\n",
       "    <tr>\n",
       "      <th>...</th>\n",
       "      <td>...</td>\n",
       "      <td>...</td>\n",
       "      <td>...</td>\n",
       "      <td>...</td>\n",
       "      <td>...</td>\n",
       "      <td>...</td>\n",
       "      <td>...</td>\n",
       "      <td>...</td>\n",
       "      <td>...</td>\n",
       "      <td>...</td>\n",
       "      <td>...</td>\n",
       "      <td>...</td>\n",
       "      <td>...</td>\n",
       "      <td>...</td>\n",
       "      <td>...</td>\n",
       "      <td>...</td>\n",
       "      <td>...</td>\n",
       "      <td>...</td>\n",
       "      <td>...</td>\n",
       "      <td>...</td>\n",
       "      <td>...</td>\n",
       "    </tr>\n",
       "    <tr>\n",
       "      <th>20995</th>\n",
       "      <td>8</td>\n",
       "      <td>2.000000e+00</td>\n",
       "      <td>0.0</td>\n",
       "      <td>0.0</td>\n",
       "      <td>0.0</td>\n",
       "      <td>0.0</td>\n",
       "      <td>0.0</td>\n",
       "      <td>0.0</td>\n",
       "      <td>106.0</td>\n",
       "      <td>3500.0</td>\n",
       "      <td>...</td>\n",
       "      <td>0</td>\n",
       "      <td>0</td>\n",
       "      <td>0</td>\n",
       "      <td>0</td>\n",
       "      <td>0</td>\n",
       "      <td>0</td>\n",
       "      <td>0</td>\n",
       "      <td>0</td>\n",
       "      <td>1</td>\n",
       "      <td>0.135068</td>\n",
       "    </tr>\n",
       "    <tr>\n",
       "      <th>20996</th>\n",
       "      <td>43794</td>\n",
       "      <td>2.130706e+09</td>\n",
       "      <td>0.0</td>\n",
       "      <td>0.0</td>\n",
       "      <td>0.0</td>\n",
       "      <td>0.0</td>\n",
       "      <td>0.0</td>\n",
       "      <td>0.0</td>\n",
       "      <td>348.0</td>\n",
       "      <td>133788.0</td>\n",
       "      <td>...</td>\n",
       "      <td>0</td>\n",
       "      <td>0</td>\n",
       "      <td>0</td>\n",
       "      <td>0</td>\n",
       "      <td>0</td>\n",
       "      <td>0</td>\n",
       "      <td>0</td>\n",
       "      <td>0</td>\n",
       "      <td>1</td>\n",
       "      <td>0.114759</td>\n",
       "    </tr>\n",
       "    <tr>\n",
       "      <th>20997</th>\n",
       "      <td>80526</td>\n",
       "      <td>1.900000e+02</td>\n",
       "      <td>0.0</td>\n",
       "      <td>0.0</td>\n",
       "      <td>0.0</td>\n",
       "      <td>0.0</td>\n",
       "      <td>0.0</td>\n",
       "      <td>192.0</td>\n",
       "      <td>545330.0</td>\n",
       "      <td>2484434.0</td>\n",
       "      <td>...</td>\n",
       "      <td>0</td>\n",
       "      <td>0</td>\n",
       "      <td>0</td>\n",
       "      <td>0</td>\n",
       "      <td>0</td>\n",
       "      <td>0</td>\n",
       "      <td>0</td>\n",
       "      <td>0</td>\n",
       "      <td>1</td>\n",
       "      <td>0.031726</td>\n",
       "    </tr>\n",
       "    <tr>\n",
       "      <th>20998</th>\n",
       "      <td>80214</td>\n",
       "      <td>2.130706e+09</td>\n",
       "      <td>0.0</td>\n",
       "      <td>0.0</td>\n",
       "      <td>0.0</td>\n",
       "      <td>0.0</td>\n",
       "      <td>0.0</td>\n",
       "      <td>0.0</td>\n",
       "      <td>7914.0</td>\n",
       "      <td>774048.0</td>\n",
       "      <td>...</td>\n",
       "      <td>0</td>\n",
       "      <td>0</td>\n",
       "      <td>0</td>\n",
       "      <td>0</td>\n",
       "      <td>0</td>\n",
       "      <td>0</td>\n",
       "      <td>0</td>\n",
       "      <td>0</td>\n",
       "      <td>1</td>\n",
       "      <td>0.077485</td>\n",
       "    </tr>\n",
       "    <tr>\n",
       "      <th>20999</th>\n",
       "      <td>61258</td>\n",
       "      <td>7.180000e+02</td>\n",
       "      <td>0.0</td>\n",
       "      <td>0.0</td>\n",
       "      <td>0.0</td>\n",
       "      <td>0.0</td>\n",
       "      <td>0.0</td>\n",
       "      <td>0.0</td>\n",
       "      <td>1298.0</td>\n",
       "      <td>149370.0</td>\n",
       "      <td>...</td>\n",
       "      <td>0</td>\n",
       "      <td>0</td>\n",
       "      <td>0</td>\n",
       "      <td>0</td>\n",
       "      <td>0</td>\n",
       "      <td>0</td>\n",
       "      <td>0</td>\n",
       "      <td>0</td>\n",
       "      <td>1</td>\n",
       "      <td>0.110159</td>\n",
       "    </tr>\n",
       "  </tbody>\n",
       "</table>\n",
       "<p>21000 rows × 172 columns</p>\n",
       "</div>"
      ],
      "text/plain": [
       "          X1            X3   X5   X6  X7a  X7b     X7c     X7d       X7e  \\\n",
       "0      40766  3.772000e+03  0.0  0.0  0.0  0.0     0.0     0.0  158424.0   \n",
       "1       9030  1.740000e+02  0.0  0.0  0.0  0.0     0.0     0.0     600.0   \n",
       "2      93156  0.000000e+00  0.0  0.0  0.0  0.0     0.0     0.0  137692.0   \n",
       "3      29084  2.940000e+02  0.0  0.0  0.0  0.0     0.0  7032.0  275686.0   \n",
       "4        724  4.200000e+01  0.0  0.0  0.0  0.0  3276.0  4980.0   16332.0   \n",
       "...      ...           ...  ...  ...  ...  ...     ...     ...       ...   \n",
       "20995      8  2.000000e+00  0.0  0.0  0.0  0.0     0.0     0.0     106.0   \n",
       "20996  43794  2.130706e+09  0.0  0.0  0.0  0.0     0.0     0.0     348.0   \n",
       "20997  80526  1.900000e+02  0.0  0.0  0.0  0.0     0.0   192.0  545330.0   \n",
       "20998  80214  2.130706e+09  0.0  0.0  0.0  0.0     0.0     0.0    7914.0   \n",
       "20999  61258  7.180000e+02  0.0  0.0  0.0  0.0     0.0     0.0    1298.0   \n",
       "\n",
       "             X7f  ...  X71_binary  X72_binary  X73_binary  X74_binary  \\\n",
       "0       416172.0  ...           0           0           0           0   \n",
       "1       136934.0  ...           0           0           0           0   \n",
       "2      2382150.0  ...           1           1           1           1   \n",
       "3       942348.0  ...           0           0           0           0   \n",
       "4        44564.0  ...           0           0           0           0   \n",
       "...          ...  ...         ...         ...         ...         ...   \n",
       "20995     3500.0  ...           0           0           0           0   \n",
       "20996   133788.0  ...           0           0           0           0   \n",
       "20997  2484434.0  ...           0           0           0           0   \n",
       "20998   774048.0  ...           0           0           0           0   \n",
       "20999   149370.0  ...           0           0           0           0   \n",
       "\n",
       "       X75_binary  X76_binary  X77_binary  X78_binary  anomaly     score  \n",
       "0               0           0           0           0        1  0.096545  \n",
       "1               0           0           0           0        1  0.068260  \n",
       "2               1           1           1           1       -1 -0.042344  \n",
       "3               0           0           0           0        1  0.122501  \n",
       "4               0           0           0           0        1  0.132192  \n",
       "...           ...         ...         ...         ...      ...       ...  \n",
       "20995           0           0           0           0        1  0.135068  \n",
       "20996           0           0           0           0        1  0.114759  \n",
       "20997           0           0           0           0        1  0.031726  \n",
       "20998           0           0           0           0        1  0.077485  \n",
       "20999           0           0           0           0        1  0.110159  \n",
       "\n",
       "[21000 rows x 172 columns]"
      ]
     },
     "execution_count": 1,
     "metadata": {},
     "output_type": "execute_result"
    }
   ],
   "source": [
    "import random\n",
    "import os \n",
    "import pandas as pd\n",
    "import numpy as np\n",
    "import seaborn as sns\n",
    "import matplotlib.pyplot as plt\n",
    "from sklearn.metrics import confusion_matrix, make_scorer\n",
    "from sklearn.preprocessing import StandardScaler, MinMaxScaler\n",
    "from sklearn.model_selection import train_test_split, KFold, GridSearchCV\n",
    "from sklearn.metrics import confusion_matrix\n",
    "import joblib\n",
    "import xgboost as xgb\n",
    "from lightgbm import LGBMRegressor\n",
    "from catboost import CatBoostClassifier, Pool\n",
    "from sklearn.utils.class_weight import compute_class_weight\n",
    "from sklearn.model_selection import train_test_split\n",
    "import warnings\n",
    "warnings.filterwarnings('ignore')\n",
    "\n",
    "#시드 고정\n",
    "DEFAULT_RANDOM_SEED = 3031\n",
    "def seedBasic(seed=DEFAULT_RANDOM_SEED):\n",
    "    random.seed(seed)\n",
    "    os.environ['PYTHONHASHSEED'] = str(seed)\n",
    "    np.random.seed(seed)\n",
    "\n",
    "test = pd.read_csv('test.csv')\n",
    "test"
   ]
  },
  {
   "cell_type": "markdown",
   "id": "f003b2b8",
   "metadata": {},
   "source": [
    "# XGB Classifier_튜닝X"
   ]
  },
  {
   "cell_type": "code",
   "execution_count": 2,
   "id": "9f35c5b6",
   "metadata": {},
   "outputs": [],
   "source": [
    "seedBasic(42)\n",
    "model = joblib.load('XGBbasic.pkl')"
   ]
  },
  {
   "cell_type": "code",
   "execution_count": 3,
   "id": "fd8dfadc",
   "metadata": {},
   "outputs": [
    {
     "name": "stdout",
     "output_type": "stream",
     "text": [
      "CPU times: total: 750 ms\n",
      "Wall time: 346 ms\n"
     ]
    }
   ],
   "source": [
    "%%time\n",
    "probabilities = model.predict_proba(test)[:, 1]\n",
    "\n",
    "# 새로운 threshold 설정\n",
    "new_threshold = 0.0015\n",
    "\n",
    "# threshold를 기준으로 예측 레이블 생성\n",
    "new_predictions = (probabilities >= new_threshold).astype(int)"
   ]
  },
  {
   "cell_type": "code",
   "execution_count": 4,
   "id": "f9742755",
   "metadata": {},
   "outputs": [],
   "source": [
    "sub = pd.read_csv('sample_submission.csv')\n",
    "sub['target'] = new_predictions\n",
    "sub.to_csv('xgb_bin.csv', index=False)"
   ]
  },
  {
   "cell_type": "markdown",
   "id": "2f8a9f88",
   "metadata": {},
   "source": [
    "# XGB Classifier_best튜닝"
   ]
  },
  {
   "cell_type": "code",
   "execution_count": 5,
   "id": "27dd1153",
   "metadata": {},
   "outputs": [],
   "source": [
    "seedBasic(42)\n",
    "model = joblib.load('XGBbest.pkl')"
   ]
  },
  {
   "cell_type": "code",
   "execution_count": 6,
   "id": "92105557",
   "metadata": {},
   "outputs": [
    {
     "name": "stdout",
     "output_type": "stream",
     "text": [
      "CPU times: total: 578 ms\n",
      "Wall time: 221 ms\n"
     ]
    }
   ],
   "source": [
    "%%time\n",
    "probabilities = model.predict_proba(test)[:, 1]\n",
    "\n",
    "# 새로운 threshold 설정 \n",
    "new_threshold = 0.002\n",
    "\n",
    "# threshold를 기준으로 예측 레이블 생성\n",
    "new_predictions = (probabilities >= new_threshold).astype(int)"
   ]
  },
  {
   "cell_type": "code",
   "execution_count": 7,
   "id": "cf2c6094",
   "metadata": {},
   "outputs": [],
   "source": [
    "sub = pd.read_csv('sample_submission.csv')\n",
    "sub['target'] = new_predictions\n",
    "sub.to_csv('xgb_best.csv', index=False)"
   ]
  },
  {
   "cell_type": "markdown",
   "id": "e1881c12",
   "metadata": {},
   "source": [
    "# LGBM Regressor_튜닝X"
   ]
  },
  {
   "cell_type": "code",
   "execution_count": 8,
   "id": "bfcc3e44",
   "metadata": {},
   "outputs": [],
   "source": [
    "seedBasic(42)\n",
    "model = joblib.load('lgbrbasic.pkl')"
   ]
  },
  {
   "cell_type": "code",
   "execution_count": 9,
   "id": "d0b4f946",
   "metadata": {},
   "outputs": [
    {
     "name": "stdout",
     "output_type": "stream",
     "text": [
      "CPU times: total: 734 ms\n",
      "Wall time: 279 ms\n"
     ]
    }
   ],
   "source": [
    "%%time\n",
    "probabilities = model.predict_proba(test)[:, 1]\n",
    "\n",
    "# 새로운 threshold 설정 \n",
    "new_threshold = 0.038\n",
    "\n",
    "# threshold를 기준으로 예측 레이블 생성\n",
    "new_predictions = (probabilities >= new_threshold).astype(int)"
   ]
  },
  {
   "cell_type": "code",
   "execution_count": 10,
   "id": "d111efb7",
   "metadata": {},
   "outputs": [],
   "source": [
    "sub = pd.read_csv('sample_submission.csv')\n",
    "sub['target'] = new_predictions\n",
    "sub.to_csv('lgbm_bin.csv', index=False)"
   ]
  },
  {
   "cell_type": "markdown",
   "id": "0a99a579",
   "metadata": {},
   "source": [
    "# LGBM Regressor_best튜닝"
   ]
  },
  {
   "cell_type": "code",
   "execution_count": 11,
   "id": "d8a205c9",
   "metadata": {},
   "outputs": [],
   "source": [
    "seedBasic(42)\n",
    "model = joblib.load('lgbrbest.pkl')"
   ]
  },
  {
   "cell_type": "code",
   "execution_count": 12,
   "id": "a134e344",
   "metadata": {},
   "outputs": [
    {
     "name": "stdout",
     "output_type": "stream",
     "text": [
      "CPU times: total: 641 ms\n",
      "Wall time: 301 ms\n"
     ]
    }
   ],
   "source": [
    "%%time\n",
    "probabilities = model.predict_proba(test)[:, 1]\n",
    "\n",
    "# 새로운 threshold 설정 \n",
    "new_threshold = 0.038\n",
    "\n",
    "# threshold를 기준으로 예측 레이블 생성\n",
    "new_predictions = (probabilities >= new_threshold).astype(int)"
   ]
  },
  {
   "cell_type": "code",
   "execution_count": 13,
   "id": "c7af35ff",
   "metadata": {},
   "outputs": [],
   "source": [
    "sub = pd.read_csv('sample_submission.csv')\n",
    "sub['target'] = new_predictions\n",
    "sub.to_csv('lgbm_best.csv', index=False)"
   ]
  },
  {
   "cell_type": "markdown",
   "id": "68b7298f",
   "metadata": {},
   "source": [
    "# CatBoost"
   ]
  },
  {
   "cell_type": "code",
   "execution_count": 14,
   "id": "fa963733",
   "metadata": {},
   "outputs": [],
   "source": [
    "seedBasic(42)\n",
    "model = joblib.load('cat.pkl')"
   ]
  },
  {
   "cell_type": "code",
   "execution_count": 15,
   "id": "9a03564b",
   "metadata": {},
   "outputs": [
    {
     "name": "stdout",
     "output_type": "stream",
     "text": [
      "CPU times: total: 391 ms\n",
      "Wall time: 528 ms\n"
     ]
    }
   ],
   "source": [
    "%%time\n",
    "probabilities = model.predict_proba(test)[:, 1]\n",
    "\n",
    "# 새로운 threshold 설정 \n",
    "new_threshold = 0.038\n",
    "\n",
    "# threshold를 기준으로 예측 레이블 생성\n",
    "new_predictions = (probabilities >= new_threshold).astype(int)"
   ]
  },
  {
   "cell_type": "code",
   "execution_count": 16,
   "id": "4631d1a3",
   "metadata": {},
   "outputs": [],
   "source": [
    "sub = pd.read_csv('sample_submission.csv')\n",
    "sub['target'] = new_predictions\n",
    "sub.to_csv('catboost.csv', index=False)"
   ]
  },
  {
   "cell_type": "markdown",
   "id": "4013f83f",
   "metadata": {},
   "source": [
    "# Voting\n",
    "### 최종 선정: 1. XGB 튜닝X / 2. XGB 튜닝 / 3. LGBM Regressor 튜닝X"
   ]
  },
  {
   "cell_type": "code",
   "execution_count": 17,
   "id": "a8bad7e2",
   "metadata": {},
   "outputs": [
    {
     "name": "stdout",
     "output_type": "stream",
     "text": [
      "1216\n",
      "1174\n",
      "678\n"
     ]
    }
   ],
   "source": [
    "sub1 = pd.read_csv('xgb_bin.csv') # XGBClassifier Bin\n",
    "sub2 = pd.read_csv('xgb_best.csv') # XBClassifier Best\n",
    "sub3 = pd.read_csv('lgbm_bin.csv') # LGBMRegressor 깡통\n",
    "\n",
    "print(sum(sub1['target'] ==1))\n",
    "print(sum(sub2['target'] ==1))\n",
    "print(sum(sub3['target'] ==1))"
   ]
  },
  {
   "cell_type": "code",
   "execution_count": 18,
   "id": "b11bba31",
   "metadata": {},
   "outputs": [],
   "source": [
    "concat = pd.concat([sub1, sub2, sub3],axis=1)\n",
    "concat = concat[['target']]\n",
    "concat.columns = [1,2,3]"
   ]
  },
  {
   "cell_type": "code",
   "execution_count": 19,
   "id": "39cedcac",
   "metadata": {},
   "outputs": [
    {
     "name": "stdout",
     "output_type": "stream",
     "text": [
      "19633\n",
      "340\n",
      "353\n"
     ]
    }
   ],
   "source": [
    "concat['sum'] = (concat[1] + concat[2] + concat[3])\n",
    "\n",
    "for i in range(3):\n",
    "  print(sum(concat['sum'] == i))"
   ]
  },
  {
   "cell_type": "code",
   "execution_count": 20,
   "id": "eb252b8c",
   "metadata": {},
   "outputs": [
    {
     "data": {
      "text/plain": [
       "1027"
      ]
     },
     "execution_count": 20,
     "metadata": {},
     "output_type": "execute_result"
    }
   ],
   "source": [
    "# 3 모델 중 2개 이상만 class=1이면 전부 1\n",
    "concat['class_pred'] = [0 for i in range(21000)]\n",
    "\n",
    "for i in range(21000):\n",
    "  if concat['sum'][i] >= 2:\n",
    "    concat['class_pred'][i] = 1\n",
    "\n",
    "sum(concat['class_pred']==1)"
   ]
  },
  {
   "cell_type": "code",
   "execution_count": 21,
   "id": "08c0a31d",
   "metadata": {},
   "outputs": [],
   "source": [
    "sub = pd.read_csv('sample_submission.csv')\n",
    "sub['target'] = concat['class_pred']\n",
    "sub.to_csv('final_sub.csv', index=False)"
   ]
  }
 ],
 "metadata": {
  "kernelspec": {
   "display_name": "Python 3 (ipykernel)",
   "language": "python",
   "name": "python3"
  },
  "language_info": {
   "codemirror_mode": {
    "name": "ipython",
    "version": 3
   },
   "file_extension": ".py",
   "mimetype": "text/x-python",
   "name": "python",
   "nbconvert_exporter": "python",
   "pygments_lexer": "ipython3",
   "version": "3.9.16"
  }
 },
 "nbformat": 4,
 "nbformat_minor": 5
}
